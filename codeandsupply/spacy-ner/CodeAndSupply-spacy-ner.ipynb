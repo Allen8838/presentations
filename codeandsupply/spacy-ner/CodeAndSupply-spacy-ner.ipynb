{
 "cells": [
  {
   "cell_type": "code",
   "execution_count": 26,
   "metadata": {},
   "outputs": [],
   "source": [
    "import spacy"
   ]
  },
  {
   "cell_type": "code",
   "execution_count": 27,
   "metadata": {},
   "outputs": [],
   "source": [
    "nlp = spacy.load('en')"
   ]
  },
  {
   "cell_type": "code",
   "execution_count": 3,
   "metadata": {},
   "outputs": [],
   "source": [
    "from bs4 import  BeautifulSoup\n",
    "import requests\n",
    "import re"
   ]
  },
  {
   "cell_type": "code",
   "execution_count": 23,
   "metadata": {},
   "outputs": [],
   "source": [
    "def url_to_string(url):\n",
    "    res = requests.get(url)\n",
    "    html = res.text\n",
    "    soup = BeautifulSoup(html, \"html5lib\")\n",
    "    for script in soup([\"script\", \"style\", 'aside']):\n",
    "        script.extract()\n",
    "    return \" \".join(re.split(r'[\\n\\t]+', soup.get_text()))"
   ]
  },
  {
   "cell_type": "code",
   "execution_count": 52,
   "metadata": {},
   "outputs": [],
   "source": [
    "ny_bb = url_to_string('https://www.newyorker.com/culture/culture-desk/the-childlike-strangeness-of-melania-trumps-be-best-campaign')"
   ]
  },
  {
   "cell_type": "code",
   "execution_count": 55,
   "metadata": {},
   "outputs": [
    {
     "data": {
      "text/plain": [
       "[('The Childlike Strangeness', 'ORG'),\n",
       " ('Melania', 'GPE'),\n",
       " ('The New Yorker', 'ORG'),\n",
       " ('Melania', 'GPE'),\n",
       " ('CampaignBy Katy', 'PERSON'),\n",
       " ('WaldmanMay 8', 'DATE'),\n",
       " ('Monday', 'DATE'),\n",
       " ('First', 'ORDINAL'),\n",
       " ('American', 'NORP'),\n",
       " ('Photograph', 'PERSON'),\n",
       " ('Kevin Lamarque', 'PERSON'),\n",
       " ('ReutersThere', 'ORG'),\n",
       " ('two', 'CARDINAL'),\n",
       " ('Trump', 'PERSON'),\n",
       " ('second', 'ORDINAL'),\n",
       " ('\\xa0', 'PERSON'),\n",
       " ('\\xa0', 'PERSON'),\n",
       " ('\\xa0', 'ORG'),\n",
       " ('\\xa0', 'ORG'),\n",
       " ('Theresa', 'PERSON'),\n",
       " ('May', 'DATE'),\n",
       " ('Houston', 'GPE'),\n",
       " ('2017', 'DATE'),\n",
       " ('Monday', 'DATE'),\n",
       " ('Melania', 'GPE'),\n",
       " ('sixteen months', 'DATE'),\n",
       " ('First', 'ORDINAL'),\n",
       " ('three', 'CARDINAL'),\n",
       " ('First', 'ORDINAL'),\n",
       " ('the United States', 'GPE'),\n",
       " ('today', 'DATE'),\n",
       " ('Melania', 'GPE'),\n",
       " ('Melania', 'GPE'),\n",
       " ('@realDonaldTrump', 'ORG'),\n",
       " ('Melania', 'GPE'),\n",
       " ('Trump—', 'ORG'),\n",
       " ('Congress', 'ORG'),\n",
       " ('seven billion dollars', 'MONEY'),\n",
       " ('White House', 'ORG'),\n",
       " ('Obama', 'GPE'),\n",
       " ('Melania', 'GPE'),\n",
       " ('the Federal Trade Commission', 'ORG'),\n",
       " ('one', 'CARDINAL'),\n",
       " ('Michelle Obama', 'PERSON'),\n",
       " ('Oprah', 'PERSON'),\n",
       " ('First', 'ORDINAL'),\n",
       " ('Stephanie Grisham', 'PERSON'),\n",
       " ('one', 'CARDINAL'),\n",
       " ('Grisham', 'ORG'),\n",
       " ('CNN', 'ORG'),\n",
       " ('Trump', 'PERSON'),\n",
       " ('Yoda', 'GPE'),\n",
       " ('Trumpian', 'NORP'),\n",
       " ('the Trump Administration’s', 'ORG'),\n",
       " ('Donald Trump', 'PERSON'),\n",
       " ('over decades', 'DATE'),\n",
       " ('Melania', 'GPE'),\n",
       " ('the Rose Garden', 'FAC'),\n",
       " ('Melania', 'GPE'),\n",
       " ('Melania', 'GPE'),\n",
       " ('Monday', 'DATE'),\n",
       " ('three-year-old', 'DATE'),\n",
       " ('Melania', 'GPE'),\n",
       " ('American', 'NORP'),\n",
       " ('First', 'ORDINAL'),\n",
       " ('Katy Waldman', 'PERSON'),\n",
       " ('The New Yorker', 'ORG'),\n",
       " ('Melania', 'GPE'),\n",
       " ('TrumpFirst', 'ORG'),\n",
       " ('the week', 'DATE'),\n",
       " ('Culture Review', 'ORG'),\n",
       " ('Millennials', 'GPE'),\n",
       " ('NarcissismWe', 'ORG'),\n",
       " ('StoriesAnnals', 'ORG'),\n",
       " ('AppearancesWith', 'ORG'),\n",
       " ('the White House', 'FAC'),\n",
       " ('Christmas', 'DATE'),\n",
       " ('Melania', 'GPE'),\n",
       " ('Fairy-Tale Prisoner', 'ORG'),\n",
       " ('Wicked QueenWatching Melania', 'PERSON'),\n",
       " ('the White House', 'ORG'),\n",
       " ('\\xa0Jia TolentinoNov', 'PERSON'),\n",
       " ('28', 'CARDINAL'),\n",
       " ('2017The', 'CARDINAL'),\n",
       " ('Melania', 'GPE'),\n",
       " ('Donald', 'PERSON'),\n",
       " ('\\xa0Lauren', 'PERSON'),\n",
       " ('02', 'DATE'),\n",
       " ('Person”“It', 'ORG'),\n",
       " ('Margot', 'GPE'),\n",
       " ('Ryan Murphy', 'PERSON'),\n",
       " ('the Most Powerful Man in TVHow', 'WORK_OF_ART'),\n",
       " ('\\xa0', 'ORG'),\n",
       " ('the New Yorker Radio HourBuy', 'ORG'),\n",
       " ('CoverPlay', 'ORG'),\n",
       " ('the Jigsaw PuzzleNews & PoliticsDaily CommentOur ColumnistsNews', 'ORG'),\n",
       " ('CommentCulture DeskGoings', 'ORG'),\n",
       " ('TownThe CriticsJia TolentinoPersons of InterestBusiness, Science & TechCurrencyElementsMaria',\n",
       "  'ORG'),\n",
       " ('ShoutsShouts &', 'ORG'),\n",
       " ('MurmursThe Borowitz', 'PRODUCT'),\n",
       " ('Week', 'DATE'),\n",
       " (\"IssueArchiveSubscribePhotographyPhoto BoothPortfolioVideoCultureHumorPoliticsBusinessScience & TechBooksSportsPodcastsThe New Yorker Radio HourPolitical SceneThe Writer's\",\n",
       "  'ORG'),\n",
       " ('CareBuy', 'ORG'),\n",
       " ('CoverAppsJigsaw', 'PERSON'),\n",
       " ('DailyCulture', 'ORG'),\n",
       " ('CassidyThe Borowitz ReportFictionGoings', 'ORG'),\n",
       " ('TownAbout UsAboutCareersContactFAQMedia KitPressAccessibility HelpSectionsNews & PoliticsCultureBusiness',\n",
       "  'ORG'),\n",
       " ('Science & TechHumorCartoonsBooks &', 'ORG'),\n",
       " ('KitPressAccessibility HelpFollow', 'PERSON'),\n",
       " ('Us', 'GPE'),\n",
       " ('2018', 'DATE'),\n",
       " ('Condé Nast', 'ORG'),\n",
       " ('\\xa0', 'ORG'),\n",
       " ('1/2/2016', 'DATE'),\n",
       " ('1/2/2016', 'DATE'),\n",
       " ('\\xa0', 'PERSON'),\n",
       " ('California', 'GPE'),\n",
       " ('Condé Nast', 'ORG'),\n",
       " ('The New Yorker', 'ORG'),\n",
       " ('Nast TravelerEpicuriousGlamourGolf DigestGolf', 'PERSON'),\n",
       " ('WorldGQGQ StylePitchforkSelfStyleTeen', 'FAC'),\n",
       " ('VogueThe New YorkerThe SceneVanity FairVogueWWiredNewsCultureBooksBusiness & TechHumorCartoonsMagazineVideoPodcastsArchiveGoings',\n",
       "  'ORG')]"
      ]
     },
     "execution_count": 55,
     "metadata": {},
     "output_type": "execute_result"
    }
   ],
   "source": [
    "j = nlp(ny_bb)\n",
    "[(x.text, x.label_) for x in j.ents]"
   ]
  },
  {
   "cell_type": "code",
   "execution_count": 29,
   "metadata": {},
   "outputs": [],
   "source": [
    "bb = url_to_string('https://www.whitehouse.gov/bebest/')"
   ]
  },
  {
   "cell_type": "code",
   "execution_count": null,
   "metadata": {},
   "outputs": [],
   "source": [
    "j = nlp(bb)\n",
    "for e in j.ents:\n",
    "    print(e.text, e.label_)"
   ]
  },
  {
   "cell_type": "code",
   "execution_count": 38,
   "metadata": {},
   "outputs": [
    {
     "data": {
      "text/plain": [
       "{1, 149, 299, 411, 529, 625, 1804, 2012}"
      ]
     },
     "execution_count": 38,
     "metadata": {},
     "output_type": "execute_result"
    }
   ],
   "source": [
    "slocs = set()\n",
    "loc = bb.find('BE BEST')\n",
    "while loc > -1:\n",
    "    slocs.add(loc)\n",
    "    loc = bb.find('BE BEST',loc+1)\n",
    "slocs"
   ]
  },
  {
   "cell_type": "code",
   "execution_count": 42,
   "metadata": {},
   "outputs": [
    {
     "name": "stdout",
     "output_type": "stream",
     "text": [
      "BE BEST\n",
      "BE BEST\n",
      "BE BEST\n",
      "BE BEST\n",
      "BE BEST\n",
      "BE BEST\n",
      "BE BEST\n",
      "BE BEST\n"
     ]
    }
   ],
   "source": [
    "from spacy.matcher import PhraseMatcher\n",
    "\n",
    "def on_match(matcher, doc, id, matches):\n",
    "    # I do stuff on each match\n",
    "    pass\n",
    "\n",
    "matcher = PhraseMatcher(nlp.vocab)\n",
    "matcher.add('BEBEST', on_match, nlp(u\"BE BEST\"))\n",
    "doc = nlp(bb)\n",
    "matches = matcher(doc)\n",
    "for i in matches:\n",
    "    print(doc[i[1]:i[2]])"
   ]
  },
  {
   "cell_type": "code",
   "execution_count": 50,
   "metadata": {},
   "outputs": [
    {
     "data": {
      "text/plain": [
       "[(16531779574699978749, 0, 1), (16531779574699978749, 8, 10)]"
      ]
     },
     "execution_count": 50,
     "metadata": {},
     "output_type": "execute_result"
    }
   ],
   "source": [
    "doc = nlp('bebest is the name of the program: be best')\n",
    "matcher(doc)"
   ]
  },
  {
   "cell_type": "code",
   "execution_count": 48,
   "metadata": {},
   "outputs": [],
   "source": [
    "matcher.add('BEBEST', on_match, nlp('be best'))\n",
    "matcher.add('BEBEST', on_match, nlp('bebest'))"
   ]
  },
  {
   "cell_type": "code",
   "execution_count": null,
   "metadata": {},
   "outputs": [],
   "source": []
  }
 ],
 "metadata": {
  "kernelspec": {
   "display_name": "Python 3",
   "language": "python",
   "name": "python3"
  },
  "language_info": {
   "codemirror_mode": {
    "name": "ipython",
    "version": 3
   },
   "file_extension": ".py",
   "mimetype": "text/x-python",
   "name": "python",
   "nbconvert_exporter": "python",
   "pygments_lexer": "ipython3",
   "version": "3.6.5rc1"
  }
 },
 "nbformat": 4,
 "nbformat_minor": 2
}
